{
 "cells": [
  {
   "cell_type": "markdown",
   "metadata": {},
   "source": [
    "# Estimation question: What’s the lowest dollar amount that nobody in the US made last year?"
   ]
  },
  {
   "cell_type": "markdown",
   "metadata": {},
   "source": [
    "### \"As in, nobody made exactly \\$723,451. That kind of thing.\"\n",
    "\n",
    "### \"Hmm. I'm trying to explain to myself why nobody might've made just one cent.\"\n",
    "\n",
    "My friend pointed out that there were 150 million dollar-cent amounts less than \\$1.5 million, so the result would probably be quite low; even rounding to the nearest dollar probably wouldn't help much. So we also decided rounding to the nearest \\$1000 might yield a more interesting answer. \n",
    "\n",
    "I'm using data from the American Community Survey, which reaches 3 million households a year and asks about income. I got the dataset from Professor Madeleine Udell as part of her class ORIE 4741 at Cornell University. "
   ]
  },
  {
   "cell_type": "code",
   "execution_count": 1,
   "metadata": {},
   "outputs": [],
   "source": [
    "import pandas as pd\n",
    "import numpy as np\n",
    "import matplotlib.pyplot as plt\n",
    "import scipy.stats"
   ]
  },
  {
   "cell_type": "code",
   "execution_count": 2,
   "metadata": {},
   "outputs": [],
   "source": [
    "url = 'https://people.orie.cornell.edu/mru8/orie4741/data/acs_2013.csv'\n",
    "data = pd.read_csv(url)"
   ]
  },
  {
   "cell_type": "code",
   "execution_count": 3,
   "metadata": {},
   "outputs": [
    {
     "data": {
      "text/plain": [
       "Index(['ACREHOUS', 'CLASSWKR', 'COMMUSE', 'COSTELEC', 'COSTGAS', 'COSTWATR',\n",
       "       'EDUC', 'EMPSTAT', 'FOODSTMP', 'GRADEATT', 'HCOVANY', 'HHINCOME',\n",
       "       'HHTYPE', 'LABFORCE', 'LOOKING', 'METRO', 'OWNERSHP', 'SCHOOL',\n",
       "       'STATEICP', 'UHRSWORK', 'WKSWORK2'],\n",
       "      dtype='object')"
      ]
     },
     "execution_count": 3,
     "metadata": {},
     "output_type": "execute_result"
    }
   ],
   "source": [
    "data.columns"
   ]
  },
  {
   "cell_type": "code",
   "execution_count": 4,
   "metadata": {},
   "outputs": [
    {
     "name": "stdout",
     "output_type": "stream",
     "text": [
      "<class 'pandas.core.series.Series'>\n"
     ]
    },
    {
     "data": {
      "text/plain": [
       "0          9999999.0\n",
       "1           151000.0\n",
       "2           151000.0\n",
       "3           151000.0\n",
       "4           151000.0\n",
       "5            39930.0\n",
       "6            11400.0\n",
       "7            11400.0\n",
       "8            11400.0\n",
       "9             3900.0\n",
       "10            5400.0\n",
       "11          136000.0\n",
       "12          136000.0\n",
       "13           52600.0\n",
       "14           52600.0\n",
       "15          103000.0\n",
       "16           81600.0\n",
       "17           81600.0\n",
       "18         9999999.0\n",
       "19           26300.0\n",
       "20           26300.0\n",
       "21            7700.0\n",
       "22           18000.0\n",
       "23           18000.0\n",
       "24           35000.0\n",
       "25           35000.0\n",
       "26           60000.0\n",
       "27           60000.0\n",
       "28           60000.0\n",
       "29           60000.0\n",
       "             ...    \n",
       "3132765      45000.0\n",
       "3132766      45000.0\n",
       "3132767     135400.0\n",
       "3132768     135400.0\n",
       "3132769    9999999.0\n",
       "3132770      12000.0\n",
       "3132771      30000.0\n",
       "3132772      30000.0\n",
       "3132773      30000.0\n",
       "3132774      30000.0\n",
       "3132775      30000.0\n",
       "3132776      63000.0\n",
       "3132777      63000.0\n",
       "3132778      63000.0\n",
       "3132779      63000.0\n",
       "3132780      63000.0\n",
       "3132781      39300.0\n",
       "3132782      39300.0\n",
       "3132783       7200.0\n",
       "3132784      39700.0\n",
       "3132785      39700.0\n",
       "3132786      39700.0\n",
       "3132787      36000.0\n",
       "3132788      36000.0\n",
       "3132789      30000.0\n",
       "3132790      64000.0\n",
       "3132791    9999999.0\n",
       "3132792     110600.0\n",
       "3132793     110600.0\n",
       "3132794     110600.0\n",
       "Name: HHINCOME, Length: 3132795, dtype: float64"
      ]
     },
     "execution_count": 4,
     "metadata": {},
     "output_type": "execute_result"
    }
   ],
   "source": [
    "data['HHINCOME']\n",
    "print(type(data['HHINCOME']))\n",
    "data['HHINCOME']"
   ]
  },
  {
   "cell_type": "code",
   "execution_count": 5,
   "metadata": {},
   "outputs": [
    {
     "name": "stdout",
     "output_type": "stream",
     "text": [
      "False\n"
     ]
    }
   ],
   "source": [
    "# Are there any NA values?\n",
    "print(pd.Series.any(data['HHINCOME'].isna()))"
   ]
  },
  {
   "cell_type": "code",
   "execution_count": 6,
   "metadata": {},
   "outputs": [
    {
     "name": "stdout",
     "output_type": "stream",
     "text": [
      "Frequencies of household income. There is an outlier at 1e7 that appears to be a placeholder value.\n"
     ]
    },
    {
     "data": {
      "image/png": "[encoded data removed]",
      "text/plain": [
       "<Figure size 432x288 with 1 Axes>"
      ]
     },
     "metadata": {
      "needs_background": "light"
     },
     "output_type": "display_data"
    }
   ],
   "source": [
    "print(\"Frequencies of household income. There is an outlier at 1e7 that appears to be a placeholder value.\")\n",
    "pd.DataFrame.hist(data, column='HHINCOME', bins=100)\n",
    "plt.xlabel('Income')\n",
    "plt.ylabel('Number of households')\n",
    "plt.show()"
   ]
  },
  {
   "cell_type": "markdown",
   "metadata": {},
   "source": [
    "### After you get rid of the 9999999.0 values (placeholder for missing)"
   ]
  },
  {
   "cell_type": "code",
   "execution_count": 7,
   "metadata": {},
   "outputs": [
    {
     "data": {
      "text/plain": [
       "array([151000., 151000., 151000., ..., 110600., 110600., 110600.])"
      ]
     },
     "execution_count": 7,
     "metadata": {},
     "output_type": "execute_result"
    }
   ],
   "source": [
    "income_with_missing = data['HHINCOME']\n",
    "income = income_with_missing[income_with_missing < 9999999].values\n",
    "income"
   ]
  },
  {
   "cell_type": "code",
   "execution_count": 8,
   "metadata": {},
   "outputs": [
    {
     "data": {
      "image/png": "[encoded data removed]",
      "text/plain": [
       "<Figure size 432x288 with 1 Axes>"
      ]
     },
     "metadata": {
      "needs_background": "light"
     },
     "output_type": "display_data"
    }
   ],
   "source": [
    "income_hist = plt.hist(income, bins=100)\n",
    "plt.title('Distribution of income')\n",
    "plt.xlabel('Income')\n",
    "plt.ylabel('Number of households')\n",
    "plt.show()"
   ]
  },
  {
   "cell_type": "code",
   "execution_count": 9,
   "metadata": {},
   "outputs": [
    {
     "name": "stdout",
     "output_type": "stream",
     "text": [
      "Maximum income: $2090000\n",
      "Minimum income: $-19770\n",
      "Mean income: $85536\n",
      "Median income: $63300\n",
      "Number of unique income values: 32697\n"
     ]
    }
   ],
   "source": [
    "print(\"Maximum income: $%d\"% np.max(income))\n",
    "print(\"Minimum income: $%d\"% np.min(income))\n",
    "print(\"Mean income: $%d\"% np.mean(income))\n",
    "print(\"Median income: $%d\"% np.median(income))\n",
    "print(\"Number of unique income values: %d\"% len(np.unique(income)))"
   ]
  },
  {
   "cell_type": "code",
   "execution_count": 10,
   "metadata": {},
   "outputs": [
    {
     "data": {
      "image/png": "[encoded data removed]",
      "text/plain": [
       "<Figure size 432x288 with 1 Axes>"
      ]
     },
     "metadata": {
      "needs_background": "light"
     },
     "output_type": "display_data"
    }
   ],
   "source": [
    "over_100k = income[income > 100000]\n",
    "over_100k_hist = plt.hist(over_100k, bins=100)\n",
    "plt.title('Distribution of income over $100,000')\n",
    "plt.xlabel('Income')\n",
    "plt.ylabel('Number of households')\n",
    "plt.show()"
   ]
  },
  {
   "cell_type": "code",
   "execution_count": 11,
   "metadata": {},
   "outputs": [
    {
     "name": "stdout",
     "output_type": "stream",
     "text": [
      "[-19770. -16800. -16400. -15000. -14600. -14000. -12400. -12180. -11600.\n",
      " -11400. -11200. -11100. -10970. -10700. -10500. -10400. -10000.  -9090.\n",
      "  -9000.  -8800.  -8600.  -8400.  -8200.  -8100.  -7700.  -7200.  -7100.\n",
      "  -7030.  -7000.  -6950.  -6800.  -6650.  -6600.  -6510.  -6500.  -6400.\n",
      "  -6300.  -6200.  -6100.  -6000.  -5800.  -5720.  -5700.  -5650.  -5600.\n",
      "  -5500.  -5400.  -5300.  -5250.  -5200.  -5100.  -5000.  -4920.  -4900.\n",
      "  -4800.  -4796.  -4700.  -4600.  -4540.  -4500.  -4400.  -4310.  -4300.\n",
      "  -4230.  -4200.  -4190.  -4100.  -4000.  -3950.  -3800.  -3750.  -3700.\n",
      "  -3670.  -3600.  -3520.  -3500.  -3420.  -3400.  -3300.  -3200.  -3100.\n",
      "  -3000.  -2900.  -2800.  -2700.  -2600.  -2500.  -2400.  -2390.  -2300.\n",
      "  -2200.  -2100.  -2000.  -1900.  -1800.  -1700.  -1600.  -1500.  -1450.\n",
      "  -1400.]\n"
     ]
    }
   ],
   "source": [
    "unique_incomes = np.sort(np.unique(income))\n",
    "print(unique_incomes[:100])"
   ]
  },
  {
   "cell_type": "code",
   "execution_count": 12,
   "metadata": {},
   "outputs": [
    {
     "name": "stdout",
     "output_type": "stream",
     "text": [
      "[  1.   2.   4.   5.   6.   8.  10.  11.  12.  13.  20.  21.  30.  40.\n",
      "  50.  51.  60.  61.  64.  70.  80.  84.  90.  91. 100. 101. 104. 110.\n",
      " 120. 121. 124. 130. 140. 144. 150. 160. 170. 180. 190. 198. 200. 204.\n",
      " 210. 220. 230. 235. 240. 250. 260. 270. 272. 280. 290. 300. 301. 310.\n",
      " 320. 330. 340. 350. 360. 370. 380. 390. 400. 401. 410. 420. 430. 431.\n",
      " 440. 450. 460. 470. 480. 490. 500. 501. 504. 510. 520. 530. 540. 550.\n",
      " 551. 552. 560. 564. 570. 571. 580. 590. 600. 605. 610. 614. 620. 630.\n",
      " 640. 641.]\n",
      "[1001. 1003. 1004. 1010. 1020. 1024. 1030. 1040. 1050. 1060. 1070. 1080.\n",
      " 1090. 1100. 1101. 1110. 1120. 1130. 1140. 1150. 1160. 1170. 1180. 1190.\n",
      " 1200. 1201. 1202. 1204. 1210. 1220. 1230. 1240. 1250. 1260. 1270. 1280.\n",
      " 1290. 1300. 1301. 1304. 1310. 1320. 1330. 1340. 1350. 1360. 1370. 1380.\n",
      " 1390. 1400. 1401. 1404. 1410. 1420. 1430. 1434. 1440. 1450. 1460. 1470.\n",
      " 1480. 1490. 1500. 1501. 1502. 1510. 1520. 1530. 1540. 1550. 1560. 1570.\n",
      " 1580. 1590. 1600. 1601. 1604. 1610. 1620. 1630. 1640. 1650. 1660. 1670.\n",
      " 1680. 1690. 1700. 1701. 1704. 1710. 1720. 1730. 1740. 1750. 1760. 1770.\n",
      " 1780. 1790. 1800. 1801.]\n"
     ]
    }
   ],
   "source": [
    "unique_positive_incomes = unique_incomes[unique_incomes > 0]\n",
    "print(unique_positive_incomes[:100])\n",
    "unique_incomes_over_1k = unique_incomes[unique_incomes > 1000]\n",
    "print(unique_incomes_over_1k[:100])"
   ]
  },
  {
   "cell_type": "code",
   "execution_count": 13,
   "metadata": {},
   "outputs": [
    {
     "data": {
      "image/png": "[encoded data removed]",
      "text/plain": [
       "<Figure size 432x288 with 1 Axes>"
      ]
     },
     "metadata": {
      "needs_background": "light"
     },
     "output_type": "display_data"
    }
   ],
   "source": [
    "#Histogram of unique incomes\n",
    "unique_income_hist = plt.hist(unique_incomes, \n",
    "                              bins=np.arange(\n",
    "                                  start = np.min(unique_incomes), stop = np.max(unique_incomes), step=10000))\n",
    "plt.title('Distribution of unique income values')\n",
    "plt.xlabel('Income')\n",
    "plt.ylabel('Number of unique values in the range of $10000')\n",
    "plt.show()"
   ]
  },
  {
   "cell_type": "markdown",
   "metadata": {},
   "source": [
    "The lowest positive income that nobody reported is \\$3. The lowest income over \\$1000 that nobody reported is $1002."
   ]
  },
  {
   "cell_type": "markdown",
   "metadata": {},
   "source": [
    "## Lowest empty 1000 (rounded and range)"
   ]
  },
  {
   "cell_type": "code",
   "execution_count": 14,
   "metadata": {},
   "outputs": [
    {
     "name": "stdout",
     "output_type": "stream",
     "text": [
      "[ 0  1  2  3  4  5  6  7  8  9 10 11 12 13 14 15 16 17 18 19 20 21 22 23\n",
      " 24 25 26 27 28 29 30 31 32 33 34 35 36 37 38 39 40 41 42 43 44 45 46 47\n",
      " 48 49 50 51 52 53 54 55 56 57 58 59 60 61 62 63 64 65 66 67 68 69 70 71\n",
      " 72 73 74 75 76 77 78 79 80 81 82 83 84 85 86 87 88 89 90 91 92 93 94 95\n",
      " 96 97 98 99]\n",
      "Nobody made between $758000 and $758999, inclusive\n"
     ]
    }
   ],
   "source": [
    "unique_positive_thousand = np.unique((unique_positive_incomes/1000).astype(int))\n",
    "print(unique_positive_thousand[:100])\n",
    "\n",
    "for i in range(1000):\n",
    "    if i not in unique_positive_thousand:\n",
    "        print(\"Nobody made between $%d and $%d, inclusive\"%(i*1000, (i+1)*1000 - 1))\n",
    "        break"
   ]
  },
  {
   "cell_type": "code",
   "execution_count": 15,
   "metadata": {},
   "outputs": [
    {
     "name": "stdout",
     "output_type": "stream",
     "text": [
      "First gap of at least $1000: 689000 to 690000\n",
      "First gap of more than $1000: 757630 to 759000\n"
     ]
    }
   ],
   "source": [
    "for i in range(1, len(unique_positive_incomes)):\n",
    "    if unique_positive_incomes[i] - unique_positive_incomes[i-1] >= 1000:\n",
    "        print(\"First gap of at least $1000: %d to %d\"%(unique_positive_incomes[i-1], unique_positive_incomes[i]))\n",
    "        break\n",
    "        \n",
    "for i in range(1, len(unique_positive_incomes)):\n",
    "    if unique_positive_incomes[i] - unique_positive_incomes[i-1] > 1000:\n",
    "        print(\"First gap of more than $1000: %d to %d\"%(unique_positive_incomes[i-1], unique_positive_incomes[i]))\n",
    "        break"
   ]
  },
  {
   "cell_type": "markdown",
   "metadata": {},
   "source": [
    "## The opposite: longest run of consecutive income values"
   ]
  },
  {
   "cell_type": "code",
   "execution_count": 16,
   "metadata": {},
   "outputs": [
    {
     "name": "stdout",
     "output_type": "stream",
     "text": [
      "The longest run of consecutive dollar amounts reported is a run of length 6 from $125000 to $125005\n",
      "The unique income values near that run:\n",
      "[124904. 124910. 124920. 124930. 124940. 124950. 124960. 124970. 124980.\n",
      " 124990. 125000. 125001. 125002. 125003. 125004. 125005. 125008. 125010.\n",
      " 125014. 125020.]\n",
      "The income values (non-unique) near that run:\n",
      "[124980.0, 124990.0, 124990.0, 124990.0, 124990.0, 124990.0, 124990.0, 124990.0, 124990.0, 124990.0, 125000.0, 125000.0, 125000.0, 125000.0, 125000.0, 125000.0, 125000.0, 125000.0, 125000.0, 125000.0]\n"
     ]
    }
   ],
   "source": [
    "non_values = np.array(range(int(np.max(income))))\n",
    "non_values = np.setdiff1d(non_values, unique_positive_incomes)\n",
    "\n",
    "max_index = 1\n",
    "\n",
    "for i in range(1, len(non_values)):\n",
    "    if (non_values[i] - non_values[i-1]) > (non_values[max_index] - non_values[max_index - 1]):\n",
    "        max_index = i\n",
    "        \n",
    "# print(max_index)\n",
    "# print(non_values[max_index])\n",
    "# print(non_values[max_index-1])\n",
    "# print(non_values[max_index] - non_values[max_index-1])\n",
    "print(\"The longest run of consecutive dollar amounts reported is a run of length %d from $%d to $%d\"\n",
    "      %(non_values[max_index] - non_values[max_index-1] - 1,\n",
    "        non_values[max_index-1] + 1,\n",
    "        non_values[max_index] - 1))\n",
    "print(\"The unique income values near that run:\")\n",
    "index_of_start = np.argwhere(unique_positive_incomes == non_values[max_index-1] + 1).flatten()[0]\n",
    "print(unique_positive_incomes[index_of_start - 10 : index_of_start + 10])\n",
    "print(\"The income values (non-unique) near that run:\")\n",
    "index_of_start_all = np.argwhere(sorted(income) == non_values[max_index-1] + 1).flatten()[0]\n",
    "print(sorted(income)[index_of_start_all - 10 : index_of_start_all + 10])"
   ]
  },
  {
   "cell_type": "markdown",
   "metadata": {},
   "source": [
    "This seemed pretty high. Taking a look at arbitrary sections of the list of unique incomes seemed to show that most people rounded their incomes to the nearest 10 dollars (or more), either in how they reported their income or how much they actually received. "
   ]
  },
  {
   "cell_type": "code",
   "execution_count": 17,
   "metadata": {},
   "outputs": [
    {
     "name": "stdout",
     "output_type": "stream",
     "text": [
      "[16010. 16012. 16020. 16030. 16040. 16050. 16060. 16070. 16080. 16090.\n",
      " 16100. 16101. 16104. 16110. 16120. 16130. 16140. 16150. 16160. 16170.]\n",
      "[38360. 38370. 38380. 38390. 38400. 38401. 38402. 38404. 38408. 38410.\n",
      " 38420. 38430. 38434. 38440. 38450. 38451. 38454. 38460. 38470. 38480.]\n",
      "[74980. 74990. 75000. 75001. 75004. 75005. 75008. 75009. 75010. 75014.\n",
      " 75020. 75030. 75034. 75038. 75040. 75050. 75060. 75064. 75070. 75080.]\n"
     ]
    }
   ],
   "source": [
    "print(unique_positive_incomes[2000:2020])\n",
    "print(unique_positive_incomes[5000:5020])\n",
    "print(unique_positive_incomes[10000:10020])"
   ]
  },
  {
   "cell_type": "code",
   "execution_count": 18,
   "metadata": {
    "scrolled": true
   },
   "outputs": [
    {
     "name": "stdout",
     "output_type": "stream",
     "text": [
      "The distribution of the last digit of the unique incomes\n",
      "For some reason, the second most common last digit after 0 is 4\n"
     ]
    },
    {
     "data": {
      "image/png": "[encoded data removed]",
      "text/plain": [
       "<Figure size 432x288 with 1 Axes>"
      ]
     },
     "metadata": {
      "needs_background": "light"
     },
     "output_type": "display_data"
    }
   ],
   "source": [
    "print(\"The distribution of the last digit of the unique incomes\")\n",
    "print(\"For some reason, the second most common last digit after 0 is 4\")\n",
    "unique_mod_10_hist = plt.hist(unique_positive_incomes % 10)"
   ]
  },
  {
   "cell_type": "code",
   "execution_count": 19,
   "metadata": {},
   "outputs": [
    {
     "name": "stdout",
     "output_type": "stream",
     "text": [
      "The distribution of the last digit of all incomes, including duplicates\n",
      "Using a log scale because 0 is too high otherwise\n",
      "4 remains the second most common last digit\n"
     ]
    },
    {
     "data": {
      "image/png": "[encoded data removed]",
      "text/plain": [
       "<Figure size 432x288 with 1 Axes>"
      ]
     },
     "metadata": {
      "needs_background": "light"
     },
     "output_type": "display_data"
    }
   ],
   "source": [
    "print(\"The distribution of the last digit of all incomes, including duplicates\")\n",
    "print(\"Using a log scale because 0 is too high otherwise\")\n",
    "print(\"4 remains the second most common last digit\")\n",
    "all_mod_10_hist = plt.hist(income % 10, log = True)"
   ]
  },
  {
   "cell_type": "code",
   "execution_count": null,
   "metadata": {},
   "outputs": [],
   "source": []
  }
 ],
 "metadata": {
  "kernelspec": {
   "display_name": "Python 3",
   "language": "python",
   "name": "python3"
  },
  "language_info": {
   "codemirror_mode": {
    "name": "ipython",
    "version": 3
   },
   "file_extension": ".py",
   "mimetype": "text/x-python",
   "name": "python",
   "nbconvert_exporter": "python",
   "pygments_lexer": "ipython3",
   "version": "3.7.2"
  }
 },
 "nbformat": 4,
 "nbformat_minor": 2
}
